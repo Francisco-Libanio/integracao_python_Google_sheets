{
 "cells": [
  {
   "cell_type": "code",
   "execution_count": null,
   "id": "45e909b9",
   "metadata": {},
   "outputs": [],
   "source": [
    "import pandas as pd\n",
    "\n",
    "lista =[[‘Lucas’, 20], [‘Ana’, 24], [‘José’, 34], [‘Manuel’, 56]]\n",
    "\n",
    "df_teste = pd.DataFrame(lista= [‘Nome’,’Idade’])\n",
    "\n",
    "#Importanto bibliotecas necessárias\n",
    "import gspread\n",
    "from oauth2client.service_account import ServiceAccountCredentials\n",
    "\n",
    "#Escopo utilizado\n",
    "scope = ['https://spreadsheets.google.com/feeds']\n",
    "\n",
    "#Dados de autenticação\n",
    "credentials = ServiceAccountCredentials.from_json_keyfile_name('prencha com o arquivo .json gerado', scope)\n",
    "\n",
    "#Autenticando \n",
    "gc = gspread.authorize(credentials)\n",
    "\n",
    "#Abrindo a planilha\n",
    "wks = gc.open_by_key('Coloque aqui o ID da sua planilha')\n",
    "\n",
    "#Selecionando a primeira página da planilha\n",
    "worksheet = wks.get_worksheet(0)\n",
    "\n",
    "#Caso queira relaizar um teste execute a linha de baixo ela vai gravar “Deu Certo” na célula A1 da planilha\n",
    "#worksheet.update_acell('a1','Deu Certo')\n",
    "\n",
    "from gspread_dataframe import get_as_dataframe, set_with_dataframe\n",
    "#Enviando o data frame para a planilha\n",
    "set_with_dataframe(worksheet, df_teste)"
   ]
  }
 ],
 "metadata": {
  "kernelspec": {
   "display_name": "Python 3 (ipykernel)",
   "language": "python",
   "name": "python3"
  },
  "language_info": {
   "codemirror_mode": {
    "name": "ipython",
    "version": 3
   },
   "file_extension": ".py",
   "mimetype": "text/x-python",
   "name": "python",
   "nbconvert_exporter": "python",
   "pygments_lexer": "ipython3",
   "version": "3.9.12"
  }
 },
 "nbformat": 4,
 "nbformat_minor": 5
}
