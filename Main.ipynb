{
 "cells": [
  {
   "cell_type": "markdown",
   "id": "2560de81",
   "metadata": {},
   "source": [
    "\n",
    "\n",
    "# integracao_python_Google_sheets\n",
    "\n",
    "##Sobre o projeto \n",
    "\n",
    "## Descrição do Projeto\n",
    "<p>O projeto tem como objetico consultar dados de uma api adicona-los a um data frame  envia-lás a uma planilha do Google planilhas </p>\n",
    "\n",
    "### Bibliotecas utilizadas \n",
    "\n",
    "* 🐼: Pandas\n",
    "* 📈:gspread-dataframe\n",
    "* 🖥️: os\n",
    "* ↔️:requests\n",
    "* 📅 :datetime\n",
    "* ☑️:dotenv\n",
    "\n",
    "### Objetivo \n",
    "O objetivo desteprojeto é realziar uma consulta a API OMIE trara o JSON e em seguida enviar ele a uma planilha do google sheets.\n"
   ]
  },
  {
   "cell_type": "code",
   "execution_count": null,
   "id": "45e909b9",
   "metadata": {},
   "outputs": [],
   "source": []
  }
 ],
 "metadata": {
  "kernelspec": {
   "display_name": "Python 3 (ipykernel)",
   "language": "python",
   "name": "python3"
  },
  "language_info": {
   "codemirror_mode": {
    "name": "ipython",
    "version": 3
   },
   "file_extension": ".py",
   "mimetype": "text/x-python",
   "name": "python",
   "nbconvert_exporter": "python",
   "pygments_lexer": "ipython3",
   "version": "3.9.12"
  }
 },
 "nbformat": 4,
 "nbformat_minor": 5
}
